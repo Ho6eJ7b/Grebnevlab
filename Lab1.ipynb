{
 "cells": [
  {
   "cell_type": "markdown",
   "id": "fifteen-sailing",
   "metadata": {
    "id": "fifteen-sailing"
   },
   "source": [
    "# Лабораторная работа №1\n",
    "## Выполнил студент группы БФИ2302 Гребнев Ярослав"
   ]
  },
  {
   "cell_type": "markdown",
   "id": "particular-syndicate",
   "metadata": {
    "id": "particular-syndicate"
   },
   "source": [
    "### Оглавление\n",
    "1. [Задание 1](#Задание-№1)\n",
    "2. [Задание 2](#Задание-№2)\n",
    "3. [Задание 3](#Задание-№3)\n",
    "4. [Вывод](#Вывод)"
   ]
  },
  {
   "cell_type": "markdown",
   "id": "arctic-stocks",
   "metadata": {
    "id": "arctic-stocks"
   },
   "source": [
    "### Задание №1\n",
    "<i> Вызвать функцию print() и передать туда строку Hello, World! </i>"
   ]
  },
  {
   "cell_type": "code",
   "execution_count": 1,
   "id": "caring-truck",
   "metadata": {
    "id": "caring-truck",
    "scrolled": true
   },
   "outputs": [
    {
     "name": "stdout",
     "output_type": "stream",
     "text": [
      "Hello, World!\n"
     ]
    }
   ],
   "source": [
    "print('Hello, World!')"
   ]
  },
  {
   "cell_type": "markdown",
   "id": "maritime-conversation",
   "metadata": {
    "id": "maritime-conversation"
   },
   "source": [
    "### Задание №2\n",
    "Написать генератор случайных матриц(многомерных), который принимает\n",
    "опциональные параметры <b>m</b>, <b>n</b>, <b>min_limit</b>, <b>max_limit</b>, где <b>m</b> и <b>n</b> указывают размер\n",
    "матрицы, а <b>min_lim</b> и <b>max_lim</b> - минимальное и максимальное значение для\n",
    "генерируемого числа."
   ]
  },
  {
   "cell_type": "code",
   "execution_count": 2,
   "id": "built-contact",
   "metadata": {
    "id": "built-contact"
   },
   "outputs": [
    {
     "ename": "ModuleNotFoundError",
     "evalue": "No module named 'numpy'",
     "output_type": "error",
     "traceback": [
      "\u001b[31m---------------------------------------------------------------------------\u001b[39m",
      "\u001b[31mModuleNotFoundError\u001b[39m                       Traceback (most recent call last)",
      "\u001b[36mCell\u001b[39m\u001b[36m \u001b[39m\u001b[32mIn[2]\u001b[39m\u001b[32m, line 2\u001b[39m\n\u001b[32m      1\u001b[39m \u001b[38;5;28;01mimport\u001b[39;00m\u001b[38;5;250m \u001b[39m\u001b[34;01mrandom\u001b[39;00m\n\u001b[32m----> \u001b[39m\u001b[32m2\u001b[39m \u001b[38;5;28;01mimport\u001b[39;00m\u001b[38;5;250m \u001b[39m\u001b[34;01mnumpy\u001b[39;00m\n\u001b[32m      3\u001b[39m m=\u001b[32m50\u001b[39m\n\u001b[32m      4\u001b[39m n=\u001b[32m50\u001b[39m\n",
      "\u001b[31mModuleNotFoundError\u001b[39m: No module named 'numpy'"
     ]
    }
   ],
   "source": [
    "import random\n",
    "import numpy\n",
    "m=50\n",
    "n=50\n",
    "min_limit=-250\n",
    "max_limit=1008\n",
    "M=input(\"строки: \")\n",
    "if len(M)>0:m=int(M)\n",
    "N=input(\"стобцы: \")\n",
    "if len(N)>0:n=int(N)\n",
    "while True:\n",
    "    min=input(\"мин: \")\n",
    "    if len(min)>0: min_limit=int(min)\n",
    "    maxi=input(\"макс: \")\n",
    "    if len(maxi)>0: max_limit=int(maxi)\n",
    "    if min_limit<=max_limit:\n",
    "        break\n",
    "    else:\n",
    "        print(\"мин больше макс, а так нельзя\")\n",
    "array=numpy.zeros((m, n))\n",
    "for i in range(m):\n",
    "    for j in range(n):\n",
    "        array[i][j]=random.randint(int(min_limit),int(max_limit))\n",
    "print(array)"
   ]
  },
  {
   "cell_type": "markdown",
   "id": "catholic-roots",
   "metadata": {
    "id": "catholic-roots"
   },
   "source": [
    "### Задание №3\n",
    "Реализовать методы сортировки строк числовой матрицы в соответствии с\n",
    "заданием. Оценить время работы каждого алгоритма сортировки и сравнить его со\n",
    "временем стандартной функции сортировки. Испытания проводить на сгенерированных\n",
    "матрицах."
   ]
  },
  {
   "cell_type": "code",
   "execution_count": null,
   "id": "opposed-creature",
   "metadata": {
    "id": "opposed-creature"
   },
   "outputs": [],
   "source": [
    "import timeit\n",
    "import random\n",
    "import numpy\n",
    "def vibor(arr):\n",
    "    new_array=arr.copy()\n",
    "    for i in range(m):\n",
    "        for j in range(n-1):\n",
    "            min=j\n",
    "            for h in range(j+1,n):\n",
    "                if new_array[i][h]<new_array[i][min]:\n",
    "                    min=h\n",
    "            temp=new_array[i][j]\n",
    "            new_array[i][j]=new_array[i][min]\n",
    "            new_array[i][min]=temp\n",
    "    return new_array\n",
    "def vstavka(arr):\n",
    "    array=arr.copy()\n",
    "    for i in range(len(array)):\n",
    "        for j in range(len(array[i])):\n",
    "            temp=array[i][j]\n",
    "            index=j\n",
    "            while (temp<array[i][index-1]) and (index>0):\n",
    "                array[i][index] = array[i][index-1]\n",
    "                index-=1\n",
    "            array[i][index]=temp\n",
    "    return array\n",
    "def obmen(arr):\n",
    "    array=arr.copy()\n",
    "    for i in range(len(array)):\n",
    "        for j in range(len(array[i])):\n",
    "            for h in range(len(array[i])-j-1):\n",
    "                if array[i][h+1] < array[i][h]:\n",
    "                    temp = array[i][h]\n",
    "                    array[i][h]=array[i][h+1]\n",
    "                    array[i][h+1] = temp\n",
    "    return array\n",
    "def shell(arr):\n",
    "    array=arr.copy()\n",
    "    for i in range(len(array)):\n",
    "        d=int(len(array[i])/2)\n",
    "        while d>0:\n",
    "            for j in range(len(array[i])):\n",
    "                for h in range(int(j+d),len(array[i]),d):\n",
    "                    if array[i][j]>array[i][h]:\n",
    "                        temp=array[i][j]\n",
    "                        array[i][j]=array[i][h]\n",
    "                        array[i][h]=temp\n",
    "            d=int(d/2)\n",
    "    return array\n",
    "def turik(array):\n",
    "    arr=array.copy()\n",
    "    for i in range(len(arr)):\n",
    "        turikk(arr[i])\n",
    "    return arr\n",
    "def turikk(arr):\n",
    "    tree=[None]*2*(len(arr)+len(arr)%2)\n",
    "    index=len(tree)-len(arr)-len(arr)%2\n",
    "    for i,v in enumerate(arr):\n",
    "        tree[index+i]=(i,v)\n",
    "    for j in range(len(arr)):\n",
    "        n=len(arr)\n",
    "        index=len(tree)-len(arr)-len(arr)%2\n",
    "        while index>-1:\n",
    "            n=(n+1)//2\n",
    "            for i in range(n):\n",
    "                i=max(index+i*2,1)\n",
    "                if tree[i] is not None and tree[i+1] is not None:\n",
    "                    if tree[i][1]<tree[i+1][1]:\n",
    "                        tree[i//2]=tree[i]\n",
    "                    else:\n",
    "                        tree[i//2]=tree[i+1]\n",
    "                else:\n",
    "                    tree[i//2] = tree[i] if tree[i] is not None else tree[i+1]\n",
    "            index-=n\n",
    "        index,x=tree[0]\n",
    "        arr[j]=x\n",
    "        tree[len(tree)-len(arr)-len(arr)%2+index]=None\n",
    "def bistro(array):\n",
    "    arr=array.copy()\n",
    "    for i in range(len(arr)):\n",
    "        quickSort(0,len(arr[i])-1,arr,i)\n",
    "    return arr\n",
    "def quickSort(_first,_last,array,row):\n",
    "    first=int(_first)\n",
    "    last=int(_last)\n",
    "    middle=int((first+last)/2)\n",
    "    while first<last:\n",
    "        while array[row][first]<array[row][middle]:\n",
    "            first+=1\n",
    "        while array[row][last]>array[row][middle]:\n",
    "            last-=1\n",
    "        if first<=last:\n",
    "            array[row][first],array[row][last]=array[row][last],array[row][first]\n",
    "            first+=1\n",
    "            last-=1\n",
    "    if _first<last:\n",
    "        quickSort(_first,last,array,row)\n",
    "    if first<_last:\n",
    "        quickSort(first,_last,array,row)\n",
    "def piramida(arr,n,i):\n",
    "    largest=i\n",
    "    l=2*i+1\n",
    "    r=2*i+2\n",
    "    if l<n and arr[i]<arr[l]:\n",
    "        largest=l\n",
    "\n",
    "    if r<n and arr[largest]<arr[r]:\n",
    "        largest=r\n",
    "\n",
    "    if largest!=i:\n",
    "        arr[i],arr[largest]=arr[largest],arr[i]\n",
    "\n",
    "        piramida(arr,n,largest)\n",
    "def piramidaa(array):\n",
    "    arr=array.copy()\n",
    "    for i in range(len(arr)):\n",
    "        n=len(arr[i])\n",
    "\n",
    "        for j in range(n,-1,-1):\n",
    "            piramida(arr[i],n,j)\n",
    "\n",
    "        for j in range(n-1,0,-1):\n",
    "            arr[i][j],arr[i][0] = arr[i][0],arr[i][j]\n",
    "            piramida(arr[i],j,0)\n",
    "    return arr\n",
    "m=50\n",
    "n=50\n",
    "min_limit=-250\n",
    "max_limit=1008\n",
    "M=input(\"строки: \")\n",
    "if len(M)>0:m=int(M)\n",
    "N=input(\"стобцы: \")\n",
    "if len(N)>0:n =int(N)\n",
    "while True:\n",
    "    min=input(\"мин: \")\n",
    "    if len(min)>0: min_limit=int(min)\n",
    "    maxi=input(\"макс: \")\n",
    "    if len(maxi)>0: max_limit=int(maxi)\n",
    "    if min_limit<=max_limit:\n",
    "        break\n",
    "    else:\n",
    "        print(\"мин больше макс, а так нельзя\")\n",
    "array=numpy.zeros((m, n))\n",
    "for i in range(m):\n",
    "    for j in range(n):\n",
    "        array[i][j]=random.randint(int(min_limit),int(max_limit))\n",
    "print(array)\n",
    "print(\"матрица: \")\n",
    "print(array)\n",
    "print(\"выбор: \")\n",
    "start_time=timeit.default_timer()\n",
    "print(vibor(array))\n",
    "time_2=timeit.default_timer()-start_time\n",
    "print(time_2)\n",
    "print(\"вставка: \")\n",
    "start_time = timeit.default_timer()\n",
    "print(vstavka(array))\n",
    "time_2=timeit.default_timer()-start_time\n",
    "print(time_2)\n",
    "print(\"обмен: \")\n",
    "start_time=timeit.default_timer()\n",
    "print(obmen(array))\n",
    "time_2=timeit.default_timer()-start_time\n",
    "print(time_2)\n",
    "print(\"Шелл: \")\n",
    "start_time=timeit.default_timer()\n",
    "print(shell(array))\n",
    "time_2=timeit.default_timer()-start_time\n",
    "print(time_2)\n",
    "print(\"турнирная: \")\n",
    "start_time=timeit.default_timer()\n",
    "print(turik(array))\n",
    "time_2=timeit.default_timer()-start_time\n",
    "print(time_2)\n",
    "print(\"быстрая: \")\n",
    "start_time=timeit.default_timer()\n",
    "print(bistro(array))\n",
    "time_2=timeit.default_timer()-start_time\n",
    "print(time_2)\n",
    "print(\"пирамидальная: \")\n",
    "start_time=timeit.default_timer()\n",
    "print(piramidaa(array))\n",
    "time_2=timeit.default_timer()-start_time\n",
    "print(time_2)\n"
   ]
  },
  {
   "cell_type": "markdown",
   "id": "rental-jerusalem",
   "metadata": {
    "id": "rental-jerusalem"
   },
   "source": [
    "### Вывод\n"
   ]
  },
  {
   "cell_type": "markdown",
   "id": "9d108a0a",
   "metadata": {
    "id": "9d108a0a"
   },
   "source": []
  }
 ],
 "metadata": {
  "colab": {
   "provenance": []
  },
  "kernelspec": {
   "display_name": "Python 3",
   "language": "python",
   "name": "python3"
  },
  "language_info": {
   "codemirror_mode": {
    "name": "ipython",
    "version": 3
   },
   "file_extension": ".py",
   "mimetype": "text/x-python",
   "name": "python",
   "nbconvert_exporter": "python",
   "pygments_lexer": "ipython3",
   "version": "3.13.3"
  }
 },
 "nbformat": 4,
 "nbformat_minor": 5
}
