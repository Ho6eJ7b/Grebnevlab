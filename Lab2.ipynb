{
 "cells": [
  {
   "cell_type": "markdown",
   "id": "fifteen-sailing",
   "metadata": {
    "id": "fifteen-sailing"
   },
   "source": [
    "# Лабораторная работа №2\n",
    "## Выполнил студент группы Гребнев Ярослав БФИ2302"
   ]
  },
  {
   "cell_type": "markdown",
   "id": "arctic-stocks",
   "metadata": {
    "id": "arctic-stocks"
   },
   "source": [
    "Реализовать следующие структуры данных:\n",
    "  \n",
    "● <b> Стек (stack): </b>  \n",
    "Операции для стека:\n",
    "<i> инициализация, проверка на пустоту, добавление нового элемента в начало, извлечение элемента из начала;  </i>  \n",
    "  \n",
    "● <b> Дек (двусторонняя очередь, deque):  </b>  \n",
    "Операции для дека:\n",
    "<i> инициализация, проверка на пустоту, добавление нового элемента в начало, добавление нового элемента в конец, извлечение элемента из начала, извлечение элемента из конца. </i>  \n",
    "  \n",
    "<i> Разработать программу обработки данных, содержащихся в заранее подготовленном txt-файле, в соответствии с заданиями, применив указанную в задании структуру данных. Результат работы программы вывести на экран и сохранить в отдельном txt-файле. </i>"
   ]
  },
  {
   "cell_type": "markdown",
   "id": "5d7edb08",
   "metadata": {
    "id": "5d7edb08",
    "scrolled": true
   },
   "source": [
    "### Задание №1\n",
    "Отсортировать строки файла, содержащие названия книг, в алфавитном порядке с использованием двух деков."
   ]
  },
  {
   "cell_type": "code",
   "execution_count": null,
   "id": "17702ade",
   "metadata": {
    "id": "17702ade"
   },
   "outputs": [],
   "source": [
    "from collections import deque\n",
    "with open('knigi.txt') as file:\n",
    "    lines = file.readlines()\n",
    "deq1 = deque()\n",
    "deq2 = deque()\n",
    "for line in lines:\n",
    "    deq1.append(line.strip())\n",
    "while deq1:\n",
    "    smallest = min(deq1)\n",
    "    deq1.remove(smallest)\n",
    "    deq2.append(smallest)\n",
    "    print(smallest)\n"
   ]
  },
  {
   "cell_type": "markdown",
   "id": "49fbd2a0",
   "metadata": {
    "id": "49fbd2a0"
   },
   "source": [
    "### Задание №2\n",
    "Дек содержит последовательность символов для шифровки сообщений. Дан текстовый файл, содержащий зашифрованное сообщение. Пользуясь деком, расшифровать текст.\n",
    "Известно, что при шифровке каждый символ сообщения заменялся следующим за ним в деке по часовой стрелке через один."
   ]
  },
  {
   "cell_type": "code",
   "execution_count": null,
   "id": "81cab7a8",
   "metadata": {
    "id": "81cab7a8"
   },
   "outputs": [],
   "source": [
    "from collections import deque\n",
    "deq = deque(['a','b','c','d','e','f','g','h','i','j','k','l','m','n','o','p','q','r','s','t','u','v','w','x','y','z'])\n",
    "with open('shifr.txt') as file:\n",
    "    shifr = file.read()\n",
    "neshifr = ''\n",
    "for char in shifr:\n",
    "    if char.isalpha():\n",
    "        index = deq.index(char)\n",
    "        decrypted_char = deq[(index - 1) % len(deq)]\n",
    "        neshifr += decrypted_char\n",
    "    else:\n",
    "        neshifr += char\n",
    "print(neshifr)"
   ]
  },
  {
   "cell_type": "markdown",
   "id": "c0894f47",
   "metadata": {
    "id": "c0894f47"
   },
   "source": [
    "### Задание №3\n",
    "Даны три стержня и n дисков различного размера. Диски можно надевать на стержни, образуя из них башни. Перенести n дисков со стержня А на стержень С, сохранив их первоначальный порядок. При переносе дисков необходимо соблюдать следующие правила:\n",
    "- на каждом шаге со стержня на стержень переносить только один диск;\n",
    "- диск нельзя помещать на диск меньшего размера;\n",
    "- для промежуточного хранения можно использовать стержень В.\n",
    "Реализовать алгоритм, используя три стека вместо стержней А, В, С. Информация о дисках хранится в исходном файле."
   ]
  },
  {
   "cell_type": "code",
   "execution_count": null,
   "id": "9e91a9d4",
   "metadata": {
    "id": "9e91a9d4"
   },
   "outputs": [],
   "source": [
    "def move(source, target, source_name, target_name):\n",
    "    disk = source.pop()\n",
    "    target.append(disk)\n",
    "    output = f\" {disk} с {source_name}: {source} на {target_name}: {target}\"\n",
    "    print(output)\n",
    "def bashnya(n, source, target, auxiliary, source_name, target_name, auxiliary_name):\n",
    "    if n == 1:\n",
    "        move(source, target, source_name, target_name)\n",
    "        return\n",
    "    bashnya(n-1, source, auxiliary, target, source_name, auxiliary_name, target_name)\n",
    "    move(source, target, source_name, target_name)\n",
    "    bashnya(n-1, auxiliary, target, source, auxiliary_name, target_name, source_name)\n",
    "with open('diski.txt', 'r') as file:\n",
    "    disks = [int(line.strip()) for line in file]\n",
    "stack_a = disks[::-1]  # Изначально все диски на стержне А\n",
    "stack_b = [] # Промежуточный стержень B\n",
    "stack_c = [] # Итоговый стержень C\n",
    "bashnya(len(disks), stack_a, stack_c, stack_b, 'A', 'C', 'B')"
   ]
  },
  {
   "cell_type": "markdown",
   "id": "e5b0be17",
   "metadata": {
    "id": "e5b0be17"
   },
   "source": [
    "### Задание №4\n",
    "Дан текстовый файл с программой на алгоритмическом языке. За один просмотр файла проверить баланс круглых скобок в тексте, используя стек."
   ]
  },
  {
   "cell_type": "code",
   "execution_count": null,
   "id": "5b1df60a",
   "metadata": {
    "id": "5b1df60a"
   },
   "outputs": [],
   "source": [
    "def check_brackets_balance(file_path):\n",
    "    stack = []\n",
    "    with open(file_path, 'r') as file:\n",
    "        for line in file:\n",
    "            for char in line:\n",
    "                if char == '(':\n",
    "                    stack.append('(')\n",
    "                elif char == ')':\n",
    "                    if not stack:\n",
    "                        return False\n",
    "                    stack.pop()\n",
    "    return len(stack) == 0\n",
    "file_path = 'proga.txt'\n",
    "if check_brackets_balance(file_path):\n",
    "    print(\"баланс))\")\n",
    "else:\n",
    "    print(\"не баланс(\")"
   ]
  },
  {
   "cell_type": "markdown",
   "id": "c44cdd6b",
   "metadata": {
    "id": "c44cdd6b"
   },
   "source": [
    "### Задание №5\n",
    "Дан текстовый файл с программой на алгоритмическом языке. За один просмотр файла проверить баланс квадратных скобок в тексте, используя дек."
   ]
  },
  {
   "cell_type": "code",
   "execution_count": null,
   "id": "36b8f400",
   "metadata": {
    "id": "36b8f400"
   },
   "outputs": [],
   "source": [
    "from collections import deque\n",
    "def check_brackets_balance(file_name):\n",
    "    stack = deque()\n",
    "    with open(file_name, 'r') as file:\n",
    "        for line in file:\n",
    "            for char in line:\n",
    "                if char == '[':\n",
    "                    stack.append('[')\n",
    "                elif char == ']':\n",
    "                    if not stack:\n",
    "                        return False\n",
    "                    stack.pop()\n",
    "    return len(stack) == 0\n",
    "file_name = 'progaa.txt'\n",
    "if check_brackets_balance(file_name):\n",
    "    print(\"баланс))\")\n",
    "else:\n",
    "    print(\"не баланс(\")"
   ]
  },
  {
   "cell_type": "markdown",
   "id": "59d13dc7",
   "metadata": {
    "id": "59d13dc7"
   },
   "source": [
    "### Задание №6\n",
    "Дан файл из символов. Используя стек, за один просмотр файла напечатать сначала все цифры, затем все буквы, и, наконец, все остальные символы, сохраняя исходный порядок в каждой группе символов."
   ]
  },
  {
   "cell_type": "code",
   "execution_count": null,
   "id": "297e36c2",
   "metadata": {
    "id": "297e36c2"
   },
   "outputs": [],
   "source": [
    "def print_characters_by_type(file_name):\n",
    "    characters = []\n",
    "    with open(file_name) as file:\n",
    "        for line in file:\n",
    "            for char in line:\n",
    "                characters.append(char)\n",
    "    cifri = []\n",
    "    bukvi = []\n",
    "    ostatok = []\n",
    "    for char in characters:\n",
    "        if char.isdigit():\n",
    "            cifri.append(char)\n",
    "        elif char.isalpha():\n",
    "            bukvi.append(char)\n",
    "        else:\n",
    "            ostatok.append(char)\n",
    "    print(\"Цифры:\")\n",
    "    for char in characters:\n",
    "        if char in cifri:\n",
    "            print(char, end='')\n",
    "    print(\"\\nБуквы:\")\n",
    "    for char in characters:\n",
    "        if char in bukvi:\n",
    "            print(char, end='')\n",
    "    print(\"\\nОстальные символы:\")\n",
    "    for char in characters:\n",
    "        if char in ostatok:\n",
    "            print(char, end='')\n",
    "file_name = 'file123.txt'\n",
    "print_characters_by_type(file_name)"
   ]
  },
  {
   "cell_type": "markdown",
   "id": "973f68bd",
   "metadata": {
    "id": "973f68bd"
   },
   "source": [
    "### Задание №7\n",
    "Дан файл из целых чисел. Используя дек, за один просмотр файла напечатать сначала все отрицательные числа, затем все положительные числа, сохраняя исходный порядок в каждой группе."
   ]
  },
  {
   "cell_type": "code",
   "execution_count": null,
   "id": "c56fad66",
   "metadata": {
    "id": "c56fad66"
   },
   "outputs": [],
   "source": [
    "from collections import deque\n",
    "def print_numbers_by_sign(file_name):\n",
    "    negativ = deque()\n",
    "    positiv = deque()\n",
    "    with open(file_name) as file:\n",
    "        for line in file:\n",
    "            numbers = map(int, line.split())\n",
    "            for num in numbers:\n",
    "                if num < 0:\n",
    "                    negativ.append(num)\n",
    "                else:\n",
    "                    positiv.append(num)\n",
    "    print(\"минусы\")\n",
    "    while negativ:\n",
    "        neg_num = negativ.popleft()\n",
    "        print(neg_num)\n",
    "    print(\"плюсы\")\n",
    "    while positiv:\n",
    "        pos_num = positiv.popleft()\n",
    "        print(pos_num)\n",
    "file_name = 'chisla.txt'\n",
    "print_numbers_by_sign(file_name)\n"
   ]
  },
  {
   "cell_type": "markdown",
   "id": "b9228191",
   "metadata": {
    "id": "b9228191"
   },
   "source": [
    "### Задание №8\n",
    "Дан текстовый файл. Используя стек, сформировать новый текстовый файл, содержащий строки исходного файла, записанные в обратном порядке: первая строка становится последней, вторая – предпоследней и т.д."
   ]
  },
  {
   "cell_type": "code",
   "execution_count": null,
   "id": "981fbdfe",
   "metadata": {
    "id": "981fbdfe"
   },
   "outputs": [],
   "source": [
    "def reverse_file(input_file, output_file):\n",
    "    stack = []\n",
    "    with open(input_file, 'r', encoding='utf-8') as file:\n",
    "        for line in file:\n",
    "            stack.append(line.strip())\n",
    "    with open(output_file, 'w') as out_file:\n",
    "        while stack:\n",
    "            line = stack.pop() # Извлечение последней строки из стека и присвоение её переменной line\n",
    "            print(line) # Вывод строки на экран\n",
    "            out_file.write(f\"{line}\\n\") # Запись этой строки в файл вывода\n",
    "input_file = 'stroki.txt'\n",
    "output_file = 'obrstroki.txt'\n",
    "reverse_file(input_file, output_file)"
   ]
  },
  {
   "cell_type": "markdown",
   "id": "rental-jerusalem",
   "metadata": {
    "id": "rental-jerusalem"
   },
   "source": [
    "### Вывод\n"
   ]
  },
  {
   "cell_type": "markdown",
   "id": "0c2b8899",
   "metadata": {
    "id": "0c2b8899"
   },
   "source": []
  }
 ],
 "metadata": {
  "colab": {
   "provenance": [
    {
     "file_id": "1SJnopeql2j1MhzcaJ8o68KaPzPnynIeK",
     "timestamp": 1676536264821
    }
   ]
  },
  "kernelspec": {
   "display_name": "Python 3 (ipykernel)",
   "language": "python",
   "name": "python3"
  },
  "language_info": {
   "codemirror_mode": {
    "name": "ipython",
    "version": 3
   },
   "file_extension": ".py",
   "mimetype": "text/x-python",
   "name": "python",
   "nbconvert_exporter": "python",
   "pygments_lexer": "ipython3",
   "version": "3.10.2"
  }
 },
 "nbformat": 4,
 "nbformat_minor": 5
}
