{
 "cells": [
  {
   "cell_type": "markdown",
   "id": "db4b50f0",
   "metadata": {
    "id": "db4b50f0"
   },
   "source": [
    "# Лабораторная работа №5\n",
    "## Выполнил студент группы Гребнев Ярослав БФИ2302"
   ]
  },
  {
   "cell_type": "markdown",
   "id": "annual-symbol",
   "metadata": {
    "id": "annual-symbol"
   },
   "source": [
    "### Оглавление\n",
    "1. [Задание 1](#Задание-№1)\n",
    "2. [Задание 2](#Задание-№2)\n",
    "4. [Вывод](#Вывод)"
   ]
  },
  {
   "cell_type": "markdown",
   "id": "independent-spirit",
   "metadata": {
    "id": "independent-spirit"
   },
   "source": [
    "> Дополнительные модули, использованные при выполнение лабораторной"
   ]
  },
  {
   "cell_type": "code",
   "execution_count": null,
   "id": "4839be2b",
   "metadata": {
    "id": "4839be2b"
   },
   "outputs": [],
   "source": [
    "# Необходим при замере скорости выполнения кода\n",
    "from datetime import datetime as t\n",
    "# Нужен для создания словаря в алг. Бойера-Мура\n",
    "from collections import defaultdict"
   ]
  },
  {
   "cell_type": "markdown",
   "id": "inclusive-motorcycle",
   "metadata": {
    "id": "inclusive-motorcycle"
   },
   "source": [
    "### Задание №1\n",
    "Реализовать методы поиска подстроки в строке. Добавить возможность ввода строки и подстроки с клавиатуры. Предусмотреть возможность существования пробела. Реализовать возможность выбора опции чувствительности или нечувствительности к регистру. Оценить время работы каждого алгоритма поиска и сравнить его со временем работы стандартной функции поиска, используемой в выбранном языке программирования."
   ]
  },
  {
   "cell_type": "markdown",
   "id": "interracial-communication",
   "metadata": {
    "id": "interracial-communication"
   },
   "source": [
    "#### Алгоритм Кнута-Морриса-Пратта"
   ]
  },
  {
   "cell_type": "code",
   "execution_count": null,
   "id": "presidential-level",
   "metadata": {
    "id": "presidential-level"
   },
   "outputs": [
    {
     "name": "stdout",
     "output_type": "stream",
     "text": [
      "\n",
      "Kнут: позиция -1, время 0.000119 сек\n",
      "Стандартный: позиция -1, время 0.000087 сек\n"
     ]
    }
   ],
   "source": [
    "from datetime import datetime\n",
    "def knut(text, pattern, ignore_case=False):\n",
    "    if ignore_case:\n",
    "        text, pattern = text.lower(), pattern.lower()\n",
    "    prefix = [0] * len(pattern)\n",
    "    for i in range(1, len(pattern)):\n",
    "        j = prefix[i - 1]\n",
    "        while j > 0 and pattern[i] != pattern[j]:\n",
    "            j = prefix[j - 1]\n",
    "        prefix[i] = j + (pattern[i] == pattern[j])\n",
    "    j = 0\n",
    "    for i, c in enumerate(text):\n",
    "        while j > 0 and c != pattern[j]:\n",
    "            j = prefix[j - 1]\n",
    "        if c == pattern[j]:\n",
    "            j += 1\n",
    "            if j == len(pattern):\n",
    "                return i - j + 1\n",
    "    return -1\n",
    "text = input(\"Строка: \")\n",
    "pattern = input(\"Подстрока: \")\n",
    "ignore_case = input(\"Игнорировать регистр? (y/n): \").lower() == 'y'\n",
    "start = datetime.now()\n",
    "pos = knut(text, pattern, ignore_case)\n",
    "kmp_time = (datetime.now() - start).total_seconds()\n",
    "start = datetime.now()\n",
    "std_pos = text.lower().find(pattern.lower()) if ignore_case else text.find(pattern)\n",
    "std_time = (datetime.now() - start).total_seconds()\n",
    "print(f\"\\nKнут: позиция {pos}, время {kmp_time:.6f} сек\")\n",
    "print(f\"Стандартный: позиция {std_pos}, время {std_time:.6f} сек\")"
   ]
  },
  {
   "cell_type": "markdown",
   "id": "downtown-option",
   "metadata": {
    "id": "downtown-option"
   },
   "source": [
    "#### Упрощенный алгоритм Бойера-Мура"
   ]
  },
  {
   "cell_type": "code",
   "execution_count": 1,
   "id": "respective-reggae",
   "metadata": {
    "id": "respective-reggae"
   },
   "outputs": [
    {
     "name": "stdout",
     "output_type": "stream",
     "text": [
      "\n",
      "Боер: позиция 0, время 0.000076 сек\n",
      "Стандартный: позиция 0, время 0.000070 сек\n"
     ]
    }
   ],
   "source": [
    "from datetime import datetime\n",
    "from collections import defaultdict\n",
    "\n",
    "def boyer_moore(text, pattern, ignore_case=False):\n",
    "    if ignore_case:\n",
    "        text, pattern = text.lower(), pattern.lower()\n",
    "\n",
    "    d = defaultdict(lambda: len(pattern))\n",
    "    for i in range(len(pattern) - 1):\n",
    "        d[pattern[i]] = len(pattern) - 1 - i\n",
    "\n",
    "    i = len(pattern) - 1\n",
    "    while i < len(text):\n",
    "        j = len(pattern) - 1\n",
    "        while j >= 0 and text[i] == pattern[j]:\n",
    "            i, j = i - 1, j - 1\n",
    "        if j == -1:\n",
    "            return i + 1\n",
    "        i += d.get(text[i], len(pattern))\n",
    "    return -1\n",
    "\n",
    "\n",
    "text = input(\"Строка: \")\n",
    "pattern = input(\"Подстрока: \")\n",
    "ignore_case = input(\"Игнорировать регистр? (y/n): \").lower() == 'y'\n",
    "\n",
    "start = datetime.now()\n",
    "pos = boyer_moore(text, pattern, ignore_case)\n",
    "bm_time = (datetime.now() - start).total_seconds()\n",
    "\n",
    "start = datetime.now()\n",
    "std_pos = text.lower().find(pattern.lower()) if ignore_case else text.find(pattern)\n",
    "std_time = (datetime.now() - start).total_seconds()\n",
    "\n",
    "print(f\"\\nБоер: позиция {pos}, время {bm_time:.6f} сек\")\n",
    "print(f\"Стандартный: позиция {std_pos}, время {std_time:.6f} сек\")"
   ]
  },
  {
   "cell_type": "markdown",
   "id": "hybrid-memorial",
   "metadata": {
    "id": "hybrid-memorial"
   },
   "source": [
    "### Задание №2\n",
    "Написать программу, определяющую, является ли данное\n",
    "расположение «решаемым», то есть можно ли из него за конечное число\n",
    "шагов перейти к правильному. Если это возможно, то необходимо найти хотя\n",
    "бы одно решение - последовательность движений, после которой числа будут\n",
    "расположены в правильном порядке.\n",
    "#### Входные данные: массив чисел, представляющий собой расстановку в\n",
    "Порядке «слева направо, сверху вниз». Число 0 обозначает пустое поле.\n",
    "Например, массив [1, 2, 3, 4, 5, 6, 7, 8, 9, 10, 11, 12, 13, 14, 15, 0] представляет\n",
    "собой «решенную» позицию элементов.\n",
    "#### Выходные данные: если решения нет, то функция должна вернуть\n",
    "Пустой массив []. Если решение есть, то необходимо представить решение —\n",
    "для каждого шага записывается номер передвигаемого на данном шаге\n",
    "элемента. "
   ]
  },
  {
   "cell_type": "code",
   "execution_count": null,
   "id": "47081ffa",
   "metadata": {},
   "outputs": [],
   "source": [
    "from collections import deque\n",
    "def get_neighbors(state):\n",
    "    neighbors = []\n",
    "    size = int(len(state) ** 0.5)\n",
    "    empty_pos = state.index(0)\n",
    "    moves = [(-1, 0), (1, 0), (0, -1), (0, 1)]\n",
    "    row, col = divmod(empty_pos, size)\n",
    "    for move in moves:\n",
    "        new_row, new_col = row + move[0], col + move[1]\n",
    "        if 0 <= new_row < size and 0 <= new_col < size:\n",
    "            new_empty_pos = new_row * size + new_col\n",
    "            new_state = list(state)\n",
    "            new_state[empty_pos], new_state[new_empty_pos] = new_state[new_empty_pos], new_state[empty_pos]\n",
    "            neighbors.append((new_state, new_empty_pos))\n",
    "\n",
    "    return neighbors\n",
    "def solve_puzzle(start_state):\n",
    "    goal_state = tuple(range(1, len(start_state))) + (0,)\n",
    "    start_state = tuple(start_state)\n",
    "    if start_state == goal_state:\n",
    "        return []\n",
    "    queue = deque([(start_state, [], start_state.index(0))])\n",
    "    visited = set()\n",
    "    visited.add(start_state)\n",
    "    while queue:\n",
    "        state, path, empty_pos = queue.popleft()\n",
    "        for neighbor_state, new_empty_pos in get_neighbors(state):\n",
    "            if neighbor_state not in visited:\n",
    "                visited.add(neighbor_state)\n",
    "                new_path = path + [state[new_empty_pos]]\n",
    "                if neighbor_state == goal_state:\n",
    "                    return new_path\n",
    "                queue.append((neighbor_state, new_path, new_empty_pos))\n",
    "    return []\n",
    "if __name__ == \"__main__\":\n",
    "    start_state = list(map(int, input(\"состояние: \").split()))\n",
    "    result = solve_puzzle(start_state)\n",
    "    if result:\n",
    "        print(\"победа, шаги\", result)\n",
    "    else:\n",
    "        print(\"невозможно.\")"
   ]
  },
  {
   "cell_type": "code",
   "execution_count": null,
   "id": "eleven-generic",
   "metadata": {
    "id": "eleven-generic"
   },
   "outputs": [],
   "source": []
  },
  {
   "cell_type": "markdown",
   "id": "arbitrary-amazon",
   "metadata": {
    "id": "arbitrary-amazon"
   },
   "source": [
    "### Вывод"
   ]
  },
  {
   "cell_type": "markdown",
   "id": "71bc58bf",
   "metadata": {
    "id": "71bc58bf"
   },
   "source": []
  }
 ],
 "metadata": {
  "colab": {
   "provenance": []
  },
  "kernelspec": {
   "display_name": "Python 3",
   "language": "python",
   "name": "python3"
  },
  "language_info": {
   "codemirror_mode": {
    "name": "ipython",
    "version": 3
   },
   "file_extension": ".py",
   "mimetype": "text/x-python",
   "name": "python",
   "nbconvert_exporter": "python",
   "pygments_lexer": "ipython3",
   "version": "3.13.3"
  }
 },
 "nbformat": 4,
 "nbformat_minor": 5
}
